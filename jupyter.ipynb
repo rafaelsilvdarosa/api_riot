{
 "cells": [
  {
   "cell_type": "code",
   "execution_count": 1,
   "metadata": {},
   "outputs": [],
   "source": [
    "import requests\n",
    "\n",
    "gameName = 'frosty'\n",
    "tagLine = 'KR3'\n",
    "api_key= 'RGAPI-b136692e-96dc-4c1c-af00-ae9a432bbdfa'\n",
    "region = 'americas'\n",
    "\n",
    "def get_puuid(gameName=None, tagLine=None, api_key=None):\n",
    "    link = f'https://americas.api.riotgames.com/riot/account/v1/accounts/by-riot-id/{gameName}/{tagLine}?api_key={api_key}'\n",
    "\n",
    "    response = requests.get(link)\n",
    "    return response.json()['puuid']\n",
    "\n",
    "def get_name_and_tag(puuid=None, api_key=None):\n",
    "    link = f'https://americas.api.riotgames.com/riot/account/v1/accounts/by-puuid/{puuid}?api_key={api_key}'\n",
    "\n",
    "    response = requests.get(link)\n",
    "\n",
    "    gameName = response.json()['gameName']\n",
    "    tagLine = response.json()['tagLine']\n",
    "    return f'{gameName}#{tagLine}'\n",
    "\n",
    "def get_match_history(region=None, puuid=None):\n",
    "    root_url = f'https://{region}.api.riotgames.com'\n",
    "    endpoint = f'/lol/match/v5/matches/by-puuid/{puuid}/ids'\n",
    "    response = requests.get(root_url + endpoint + '?api_key=' + api_key)\n",
    "\n",
    "    return response.json()\n",
    "\n",
    "def get_match_id(region=None, matchId=None):\n",
    "    root_url = f'https://{region}.api.riotgames.com'\n",
    "    endpoint = f'/lol/match/v5/matches/{matchId}'\n",
    "    print(root_url + endpoint + '?api_key=' + api_key)\n",
    "    response = requests.get(root_url + endpoint + '?api_key=' + api_key)\n",
    "    \n",
    "    return response.json()"
   ]
  },
  {
   "cell_type": "code",
   "execution_count": 2,
   "metadata": {},
   "outputs": [
    {
     "name": "stdout",
     "output_type": "stream",
     "text": [
      "https://americas.api.riotgames.com/lol/match/v5/matches/BR1_2980776093?api_key=RGAPI-b136692e-96dc-4c1c-af00-ae9a432bbdfa\n"
     ]
    }
   ],
   "source": [
    "game = get_match_id(region='americas', matchId='BR1_2980776093')"
   ]
  },
  {
   "cell_type": "code",
   "execution_count": 3,
   "metadata": {},
   "outputs": [
    {
     "ename": "KeyError",
     "evalue": "'gameName'",
     "output_type": "error",
     "traceback": [
      "\u001b[1;31m---------------------------------------------------------------------------\u001b[0m",
      "\u001b[1;31mKeyError\u001b[0m                                  Traceback (most recent call last)",
      "Cell \u001b[1;32mIn[3], line 1\u001b[0m\n\u001b[1;32m----> 1\u001b[0m \u001b[43mget_name_and_tag\u001b[49m\u001b[43m(\u001b[49m\u001b[43mpuuid\u001b[49m\u001b[38;5;241;43m=\u001b[39;49m\u001b[38;5;124;43m'\u001b[39;49m\u001b[38;5;124;43mSswx8q58JY09zNf1RUk6jw0Bl8EO2EaWMylktCFsT7qy88QNnyM0JNWM6KsyyOe0-JXm3_gKAbB1Qg\u001b[39;49m\u001b[38;5;124;43m'\u001b[39;49m\u001b[43m,\u001b[49m\u001b[43m \u001b[49m\u001b[43mapi_key\u001b[49m\u001b[38;5;241;43m=\u001b[39;49m\u001b[43mapi_key\u001b[49m\u001b[43m)\u001b[49m\n",
      "Cell \u001b[1;32mIn[1], line 19\u001b[0m, in \u001b[0;36mget_name_and_tag\u001b[1;34m(puuid, api_key)\u001b[0m\n\u001b[0;32m     15\u001b[0m link \u001b[38;5;241m=\u001b[39m \u001b[38;5;124mf\u001b[39m\u001b[38;5;124m'\u001b[39m\u001b[38;5;124mhttps://americas.api.riotgames.com/riot/account/v1/accounts/by-puuid/\u001b[39m\u001b[38;5;132;01m{\u001b[39;00mpuuid\u001b[38;5;132;01m}\u001b[39;00m\u001b[38;5;124m?api_key=\u001b[39m\u001b[38;5;132;01m{\u001b[39;00mapi_key\u001b[38;5;132;01m}\u001b[39;00m\u001b[38;5;124m'\u001b[39m\n\u001b[0;32m     17\u001b[0m response \u001b[38;5;241m=\u001b[39m requests\u001b[38;5;241m.\u001b[39mget(link)\n\u001b[1;32m---> 19\u001b[0m gameName \u001b[38;5;241m=\u001b[39m \u001b[43mresponse\u001b[49m\u001b[38;5;241;43m.\u001b[39;49m\u001b[43mjson\u001b[49m\u001b[43m(\u001b[49m\u001b[43m)\u001b[49m\u001b[43m[\u001b[49m\u001b[38;5;124;43m'\u001b[39;49m\u001b[38;5;124;43mgameName\u001b[39;49m\u001b[38;5;124;43m'\u001b[39;49m\u001b[43m]\u001b[49m\n\u001b[0;32m     20\u001b[0m tagLine \u001b[38;5;241m=\u001b[39m response\u001b[38;5;241m.\u001b[39mjson()[\u001b[38;5;124m'\u001b[39m\u001b[38;5;124mtagLine\u001b[39m\u001b[38;5;124m'\u001b[39m]\n\u001b[0;32m     21\u001b[0m \u001b[38;5;28;01mreturn\u001b[39;00m \u001b[38;5;124mf\u001b[39m\u001b[38;5;124m'\u001b[39m\u001b[38;5;132;01m{\u001b[39;00mgameName\u001b[38;5;132;01m}\u001b[39;00m\u001b[38;5;124m#\u001b[39m\u001b[38;5;132;01m{\u001b[39;00mtagLine\u001b[38;5;132;01m}\u001b[39;00m\u001b[38;5;124m'\u001b[39m\n",
      "\u001b[1;31mKeyError\u001b[0m: 'gameName'"
     ]
    }
   ],
   "source": [
    "get_name_and_tag(puuid='Sswx8q58JY09zNf1RUk6jw0Bl8EO2EaWMylktCFsT7qy88QNnyM0JNWM6KsyyOe0-JXm3_gKAbB1Qg', api_key=api_key)"
   ]
  },
  {
   "cell_type": "code",
   "execution_count": 13,
   "metadata": {},
   "outputs": [
    {
     "data": {
      "text/plain": [
       "['BR1_2981250978',\n",
       " 'BR1_2981156192',\n",
       " 'BR1_2980776093',\n",
       " 'BR1_2980764252',\n",
       " 'BR1_2980749310',\n",
       " 'BR1_2980743387',\n",
       " 'BR1_2980723103',\n",
       " 'BR1_2980386587',\n",
       " 'BR1_2980364452',\n",
       " 'BR1_2980341976',\n",
       " 'BR1_2980325913',\n",
       " 'BR1_2980309098',\n",
       " 'BR1_2979624652',\n",
       " 'BR1_2979601731',\n",
       " 'BR1_2979561539',\n",
       " 'BR1_2979528792',\n",
       " 'BR1_2979080843',\n",
       " 'BR1_2979037259',\n",
       " 'BR1_2979003748',\n",
       " 'BR1_2978968276']"
      ]
     },
     "execution_count": 13,
     "metadata": {},
     "output_type": "execute_result"
    }
   ],
   "source": [
    "get_match_history(region='americas', puuid='Sswx8q58JY09zNf1RUk6jw0Bl8EO2EaWMylktCFsT7qy88QNnyM0JNWM6KsyyOe0-JXm3_gKAbB1Qg' )"
   ]
  },
  {
   "cell_type": "code",
   "execution_count": 19,
   "metadata": {},
   "outputs": [
    {
     "ename": "TypeError",
     "evalue": "list indices must be integers or slices, not str",
     "output_type": "error",
     "traceback": [
      "\u001b[1;31m---------------------------------------------------------------------------\u001b[0m",
      "\u001b[1;31mTypeError\u001b[0m                                 Traceback (most recent call last)",
      "Cell \u001b[1;32mIn[19], line 3\u001b[0m\n\u001b[0;32m      1\u001b[0m metadata \u001b[38;5;241m=\u001b[39m game[\u001b[38;5;124m'\u001b[39m\u001b[38;5;124mmetadata\u001b[39m\u001b[38;5;124m'\u001b[39m]\n\u001b[0;32m      2\u001b[0m info \u001b[38;5;241m=\u001b[39m game[\u001b[38;5;124m'\u001b[39m\u001b[38;5;124minfo\u001b[39m\u001b[38;5;124m'\u001b[39m]\n\u001b[1;32m----> 3\u001b[0m puuid \u001b[38;5;241m=\u001b[39m \u001b[43mplayer\u001b[49m\u001b[43m[\u001b[49m\u001b[38;5;124;43m'\u001b[39;49m\u001b[38;5;124;43mpuuid\u001b[39;49m\u001b[38;5;124;43m'\u001b[39;49m\u001b[43m]\u001b[49m\n\u001b[0;32m      4\u001b[0m player \u001b[38;5;241m=\u001b[39m info[\u001b[38;5;124m'\u001b[39m\u001b[38;5;124mparticipants\u001b[39m\u001b[38;5;124m'\u001b[39m][participants\u001b[38;5;241m.\u001b[39mindex(puuid)]\n\u001b[0;32m      6\u001b[0m participants \u001b[38;5;241m=\u001b[39m metadata[\u001b[38;5;124m'\u001b[39m\u001b[38;5;124mparticipants\u001b[39m\u001b[38;5;124m'\u001b[39m]\n",
      "\u001b[1;31mTypeError\u001b[0m: list indices must be integers or slices, not str"
     ]
    }
   ],
   "source": [
    "metadata = game['metadata']\n",
    "info = game['info']\n",
    "puuid = player['puuid']\n",
    "player = info['participants'][participants.index(puuid)]\n",
    "\n",
    "participants = metadata['participants']\n",
    "\n",
    "for player in players:\n",
    "    perks\n",
    "\n",
    "champion = player['championName']\n",
    "kills = player['kills']\n",
    "deaths = player['deaths']\n",
    "assists = player['assists']"
   ]
  }
 ],
 "metadata": {
  "kernelspec": {
   "display_name": "Python 3",
   "language": "python",
   "name": "python3"
  },
  "language_info": {
   "codemirror_mode": {
    "name": "ipython",
    "version": 3
   },
   "file_extension": ".py",
   "mimetype": "text/x-python",
   "name": "python",
   "nbconvert_exporter": "python",
   "pygments_lexer": "ipython3",
   "version": "3.12.4"
  }
 },
 "nbformat": 4,
 "nbformat_minor": 2
}
